{
  "nbformat": 4,
  "nbformat_minor": 0,
  "metadata": {
    "colab": {
      "provenance": [],
      "authorship_tag": "ABX9TyMXCZ28Wl/XiFPhild3Mukk",
      "include_colab_link": true
    },
    "kernelspec": {
      "name": "python3",
      "display_name": "Python 3"
    },
    "language_info": {
      "name": "python"
    }
  },
  "cells": [
    {
      "cell_type": "markdown",
      "metadata": {
        "id": "view-in-github",
        "colab_type": "text"
      },
      "source": [
        "<a href=\"https://colab.research.google.com/github/hosseinrafiei/hossein/blob/master/Functional_Api.ipynb\" target=\"_parent\"><img src=\"https://colab.research.google.com/assets/colab-badge.svg\" alt=\"Open In Colab\"/></a>"
      ]
    },
    {
      "cell_type": "code",
      "execution_count": 1,
      "metadata": {
        "id": "y8Q316FPjxSD"
      },
      "outputs": [],
      "source": [
        "import tensorflow as tf\n",
        "from tensorflow import keras\n",
        "from sklearn.datasets import fetch_california_housing\n",
        "from sklearn.model_selection import train_test_split\n",
        "from sklearn.preprocessing import StandardScaler"
      ]
    },
    {
      "cell_type": "code",
      "source": [
        "import numpy as np\n",
        "import matplotlib.pyplot as plt"
      ],
      "metadata": {
        "id": "zUhduEFEkAS2"
      },
      "execution_count": 2,
      "outputs": []
    },
    {
      "cell_type": "code",
      "source": [
        "california_housing=fetch_california_housing()"
      ],
      "metadata": {
        "id": "CXHVOT-jkDrH"
      },
      "execution_count": 3,
      "outputs": []
    },
    {
      "cell_type": "code",
      "source": [
        "# Train and test data\n",
        "#بصورت پیش فرض 25 درصد داده را برای تست جدا میکند\n",
        "X_train0,X_test,y_train0,y_test=train_test_split(\n",
        "                                california_housing[\"data\"],\n",
        "                                california_housing[\"target\"])"
      ],
      "metadata": {
        "id": "9SNhJnrIkHdb"
      },
      "execution_count": 4,
      "outputs": []
    },
    {
      "cell_type": "code",
      "source": [
        "# split validation data from train data\n",
        "X_train1,X_validation,y_train1,y_validation=train_test_split(X_train0,y_train0)"
      ],
      "metadata": {
        "id": "Xl8wYyLZkIRS"
      },
      "execution_count": 5,
      "outputs": []
    },
    {
      "cell_type": "code",
      "source": [
        "X_test.shape"
      ],
      "metadata": {
        "colab": {
          "base_uri": "https://localhost:8080/"
        },
        "id": "gDNUl0ZpkP7b",
        "outputId": "e4535f8e-563d-4377-d019-9821eee3e561"
      },
      "execution_count": 6,
      "outputs": [
        {
          "output_type": "execute_result",
          "data": {
            "text/plain": [
              "(5160, 8)"
            ]
          },
          "metadata": {},
          "execution_count": 6
        }
      ]
    },
    {
      "cell_type": "code",
      "source": [
        "X_train0.shape"
      ],
      "metadata": {
        "colab": {
          "base_uri": "https://localhost:8080/"
        },
        "id": "eU1zL_ZzkSd9",
        "outputId": "79e0b710-27d5-4015-866a-a6a2999569e7"
      },
      "execution_count": 7,
      "outputs": [
        {
          "output_type": "execute_result",
          "data": {
            "text/plain": [
              "(15480, 8)"
            ]
          },
          "metadata": {},
          "execution_count": 7
        }
      ]
    },
    {
      "cell_type": "code",
      "source": [
        "# داده آموزش\n",
        "X_train1.shape"
      ],
      "metadata": {
        "colab": {
          "base_uri": "https://localhost:8080/"
        },
        "id": "nr0KE0dakSoY",
        "outputId": "3296e5aa-72ef-490a-9d06-44f3279da8b3"
      },
      "execution_count": 8,
      "outputs": [
        {
          "output_type": "execute_result",
          "data": {
            "text/plain": [
              "(11610, 8)"
            ]
          },
          "metadata": {},
          "execution_count": 8
        }
      ]
    },
    {
      "cell_type": "code",
      "source": [
        "#داده اعتبار سنجی\n",
        "X_validation.shape"
      ],
      "metadata": {
        "colab": {
          "base_uri": "https://localhost:8080/"
        },
        "id": "eLnzitMAkSxf",
        "outputId": "5285dc6c-5cca-436c-d306-88ce76bded40"
      },
      "execution_count": 9,
      "outputs": [
        {
          "output_type": "execute_result",
          "data": {
            "text/plain": [
              "(3870, 8)"
            ]
          },
          "metadata": {},
          "execution_count": 9
        }
      ]
    },
    {
      "cell_type": "code",
      "source": [
        "# نرمالیزیشن فقط روی داده آموزش انجام میشود و داده تست و ولیدیشن نباید نرمالایز شوند\n",
        "# نرمالیزیشن فقط باید رودی ویژگی های ورودی انجام شود و ستون تارگت نیاز به نرمال سازی ندارد\n",
        "sc=StandardScaler()\n",
        "X_train_s=sc.fit_transform(X_train1)\n",
        "# داده تست و اعتبار سنجی فیت نمی شوند. فقط ترنسفرم روی آنها انجام می شود\n",
        "X_validation_s=sc.transform(X_validation)\n",
        "X_test_s=sc.transform(X_test)"
      ],
      "metadata": {
        "id": "DnP7LTockS2U"
      },
      "execution_count": 10,
      "outputs": []
    },
    {
      "cell_type": "code",
      "source": [
        "#  برای ورودی ما به شیپ  داده نیاز داریم. نکته مهم بعنوان ورودی تعداد ابعاد داده است\n",
        "# بنابراین از :1 استفاده میکنیم\n",
        "X_train0.shape[1:]\n"
      ],
      "metadata": {
        "id": "sc7LxNDCkS6w"
      },
      "execution_count": null,
      "outputs": []
    },
    {
      "cell_type": "markdown",
      "source": [
        "# Define Model with Functional API"
      ],
      "metadata": {
        "id": "7H03AIgPm7sb"
      }
    },
    {
      "cell_type": "code",
      "source": [
        "# کلمه ایپوت یکی از کلمات کلیدی پایتون است و ما مجار به استفاده بعنوان متغیر نیستیم، پس از _ استفاده میکنیم\n",
        "#شیپ داده را بعوان ورودی استفاده میکنیم\n",
        "input_=keras.layers.Input(shape=X_train0.shape[1:])\n",
        "# لایه پنهان ایجاد شده ، بعنوان یک تابع است که ورودی می گیرد\n",
        "hidden_layer1= keras.layers.Dense(50,activation=\"relu\")(input_)\n",
        "hidden_layer2= keras.layers.Dense(10,activation=\"relu\")(hidden_layer1)\n",
        "# concatenate layers\n",
        "concatenate_layer=keras.layers.Concatenate()([input_,hidden_layer2])\n",
        "#output layers\n",
        "output=keras.layers.Dense(1)(concatenate_layer)\n",
        "model=keras.Model(inputs=[input_],outputs=[output])"
      ],
      "metadata": {
        "id": "sSRvTNJtkjf_"
      },
      "execution_count": 12,
      "outputs": []
    },
    {
      "cell_type": "code",
      "source": [
        "#در این مرحله باید متریک ها و لاس فانکشن های مربوط به رگرسیون را استفاده کنید\n",
        "model.compile(loss=\"mean_squared_error\",\n",
        "              optimizer=\"sgd\",\n",
        "              metrics=[\"mean_absolute_error\"])"
      ],
      "metadata": {
        "id": "_RXJnXDQkjm9"
      },
      "execution_count": 13,
      "outputs": []
    },
    {
      "cell_type": "markdown",
      "source": [
        "Fit Model"
      ],
      "metadata": {
        "id": "sm3L8lHbkuRF"
      }
    },
    {
      "cell_type": "code",
      "source": [
        "history=model.fit(X_train_s, y_train1, epochs=30,\n",
        "                  validation_data=(X_validation, y_validation))"
      ],
      "metadata": {
        "colab": {
          "base_uri": "https://localhost:8080/"
        },
        "id": "5-Fo23uFkjqj",
        "outputId": "9f6b62f2-7102-4b10-9ad9-bf9f59266d9d"
      },
      "execution_count": 14,
      "outputs": [
        {
          "output_type": "stream",
          "name": "stdout",
          "text": [
            "Epoch 1/30\n",
            "363/363 [==============================] - 4s 6ms/step - loss: 1.0087 - mean_absolute_error: 0.6250 - val_loss: 125312.8281 - val_mean_absolute_error: 293.2265\n",
            "Epoch 2/30\n",
            "363/363 [==============================] - 1s 3ms/step - loss: 0.5505 - mean_absolute_error: 0.4905 - val_loss: 36391.5312 - val_mean_absolute_error: 165.5741\n",
            "Epoch 3/30\n",
            "363/363 [==============================] - 1s 2ms/step - loss: 0.4177 - mean_absolute_error: 0.4625 - val_loss: 33522.4375 - val_mean_absolute_error: 167.7052\n",
            "Epoch 4/30\n",
            "363/363 [==============================] - 1s 2ms/step - loss: 0.4465 - mean_absolute_error: 0.4538 - val_loss: 26569.4375 - val_mean_absolute_error: 152.9866\n",
            "Epoch 5/30\n",
            "363/363 [==============================] - 1s 2ms/step - loss: 0.3887 - mean_absolute_error: 0.4451 - val_loss: 19233.7246 - val_mean_absolute_error: 133.9980\n",
            "Epoch 6/30\n",
            "363/363 [==============================] - 1s 3ms/step - loss: 0.3739 - mean_absolute_error: 0.4364 - val_loss: 8047.1953 - val_mean_absolute_error: 88.9292\n",
            "Epoch 7/30\n",
            "363/363 [==============================] - 1s 4ms/step - loss: 0.3697 - mean_absolute_error: 0.4340 - val_loss: 19374.0801 - val_mean_absolute_error: 135.5619\n",
            "Epoch 8/30\n",
            "363/363 [==============================] - 1s 3ms/step - loss: 0.3625 - mean_absolute_error: 0.4287 - val_loss: 7367.3379 - val_mean_absolute_error: 81.6103\n",
            "Epoch 9/30\n",
            "363/363 [==============================] - 1s 2ms/step - loss: 0.3586 - mean_absolute_error: 0.4259 - val_loss: 12066.9287 - val_mean_absolute_error: 108.2468\n",
            "Epoch 10/30\n",
            "363/363 [==============================] - 1s 3ms/step - loss: 0.3547 - mean_absolute_error: 0.4238 - val_loss: 5425.7661 - val_mean_absolute_error: 72.0851\n",
            "Epoch 11/30\n",
            "363/363 [==============================] - 1s 3ms/step - loss: 0.3509 - mean_absolute_error: 0.4208 - val_loss: 7459.0210 - val_mean_absolute_error: 85.5491\n",
            "Epoch 12/30\n",
            "363/363 [==============================] - 1s 2ms/step - loss: 0.3539 - mean_absolute_error: 0.4206 - val_loss: 8416.0469 - val_mean_absolute_error: 90.3419\n",
            "Epoch 13/30\n",
            "363/363 [==============================] - 1s 2ms/step - loss: 0.4384 - mean_absolute_error: 0.4215 - val_loss: 4212.2817 - val_mean_absolute_error: 59.6490\n",
            "Epoch 14/30\n",
            "363/363 [==============================] - 1s 2ms/step - loss: 0.3401 - mean_absolute_error: 0.4134 - val_loss: 16296.2842 - val_mean_absolute_error: 126.0923\n",
            "Epoch 15/30\n",
            "363/363 [==============================] - 1s 3ms/step - loss: 0.3382 - mean_absolute_error: 0.4118 - val_loss: 4954.4971 - val_mean_absolute_error: 67.4243\n",
            "Epoch 16/30\n",
            "363/363 [==============================] - 1s 3ms/step - loss: 0.3367 - mean_absolute_error: 0.4107 - val_loss: 10373.4199 - val_mean_absolute_error: 97.7105\n",
            "Epoch 17/30\n",
            "363/363 [==============================] - 1s 2ms/step - loss: 0.3429 - mean_absolute_error: 0.4096 - val_loss: 35049.7031 - val_mean_absolute_error: 179.1471\n",
            "Epoch 18/30\n",
            "363/363 [==============================] - 1s 3ms/step - loss: 0.3521 - mean_absolute_error: 0.4076 - val_loss: 10458.4707 - val_mean_absolute_error: 97.1645\n",
            "Epoch 19/30\n",
            "363/363 [==============================] - 1s 3ms/step - loss: 0.3593 - mean_absolute_error: 0.4093 - val_loss: 10560.2373 - val_mean_absolute_error: 100.8253\n",
            "Epoch 20/30\n",
            "363/363 [==============================] - 1s 3ms/step - loss: 0.3392 - mean_absolute_error: 0.4064 - val_loss: 7641.1519 - val_mean_absolute_error: 84.3183\n",
            "Epoch 21/30\n",
            "363/363 [==============================] - 1s 3ms/step - loss: 0.3255 - mean_absolute_error: 0.4020 - val_loss: 11287.9785 - val_mean_absolute_error: 103.9816\n",
            "Epoch 22/30\n",
            "363/363 [==============================] - 1s 3ms/step - loss: 0.3465 - mean_absolute_error: 0.4038 - val_loss: 19942.7539 - val_mean_absolute_error: 136.2593\n",
            "Epoch 23/30\n",
            "363/363 [==============================] - 1s 3ms/step - loss: 0.3343 - mean_absolute_error: 0.4009 - val_loss: 13994.9170 - val_mean_absolute_error: 114.6098\n",
            "Epoch 24/30\n",
            "363/363 [==============================] - 1s 3ms/step - loss: 0.3365 - mean_absolute_error: 0.3985 - val_loss: 19271.1367 - val_mean_absolute_error: 131.9967\n",
            "Epoch 25/30\n",
            "363/363 [==============================] - 1s 3ms/step - loss: 0.3186 - mean_absolute_error: 0.3964 - val_loss: 10945.7568 - val_mean_absolute_error: 100.1761\n",
            "Epoch 26/30\n",
            "363/363 [==============================] - 1s 2ms/step - loss: 0.3154 - mean_absolute_error: 0.3951 - val_loss: 19326.1504 - val_mean_absolute_error: 134.4595\n",
            "Epoch 27/30\n",
            "363/363 [==============================] - 1s 3ms/step - loss: 0.3198 - mean_absolute_error: 0.3951 - val_loss: 19292.1406 - val_mean_absolute_error: 135.4212\n",
            "Epoch 28/30\n",
            "363/363 [==============================] - 1s 3ms/step - loss: 0.3165 - mean_absolute_error: 0.3936 - val_loss: 15137.9521 - val_mean_absolute_error: 116.8183\n",
            "Epoch 29/30\n",
            "363/363 [==============================] - 1s 3ms/step - loss: 0.3339 - mean_absolute_error: 0.3936 - val_loss: 12471.0557 - val_mean_absolute_error: 103.6822\n",
            "Epoch 30/30\n",
            "363/363 [==============================] - 1s 3ms/step - loss: 0.3089 - mean_absolute_error: 0.3899 - val_loss: 19753.7969 - val_mean_absolute_error: 134.6585\n"
          ]
        }
      ]
    },
    {
      "cell_type": "markdown",
      "source": [
        "# شکل دوم پیاده سازی فانکشنال با 2 ورودی\n"
      ],
      "metadata": {
        "id": "olry1ONrk18u"
      }
    },
    {
      "cell_type": "code",
      "source": [
        "# داده های نرمالایز شده بصورت 6 ویژگی ابتدایی و 4 ویژگی از آخر تقسیم می شوند\n",
        "X_train_s_1,X_train_s_2=X_train_s[:,:6],X_train_s[:,-4:]\n",
        "X_validation_s_1,X_validation_s_2=X_validation_s[:,:6],X_validation_s[:,-4:]\n",
        "X_test_s_1,X_test_s_2=X_test_s[:,:6],X_test_s[:,-4:]"
      ],
      "metadata": {
        "id": "epwvbd5_kjt8"
      },
      "execution_count": 15,
      "outputs": []
    },
    {
      "cell_type": "markdown",
      "source": [
        "# Define Model with Functional API"
      ],
      "metadata": {
        "id": "keCAkxGglBGT"
      }
    },
    {
      "cell_type": "code",
      "source": [
        "input_1=keras.layers.Input(shape=[6])\n",
        "input_2=keras.layers.Input(shape=[4])\n",
        "# لایه پنهان ایجاد شده ، بعنوان یک تابع است که ورودی می گیرد\n",
        "hidden_layer1= keras.layers.Dense(50,activation=\"relu\")(input_1)\n",
        "hidden_layer2= keras.layers.Dense(10,activation=\"relu\")(hidden_layer1)\n",
        "# concatenate layers\n",
        "concatenate_layer=keras.layers.Concatenate()([input_2,hidden_layer2])\n",
        "#output layers\n",
        "output=keras.layers.Dense(1)(concatenate_layer)\n",
        "model=keras.Model(inputs=[input_1, input_2],outputs=[output])"
      ],
      "metadata": {
        "id": "SiPMcn1tkjyR"
      },
      "execution_count": 16,
      "outputs": []
    },
    {
      "cell_type": "code",
      "source": [
        "#در این مرحله باید متریک ها و لاس فانکشن های مربوط به رگرسیون را استفاده کنید\n",
        "model.compile(loss=\"mean_squared_error\",\n",
        "              optimizer=\"sgd\",\n",
        "              metrics=[\"mean_absolute_error\"])"
      ],
      "metadata": {
        "id": "oS2b1jdTk6Lz"
      },
      "execution_count": 17,
      "outputs": []
    },
    {
      "cell_type": "code",
      "source": [
        "#در این مرحله باید متریک ها و لاس فانکشن های مربوط به رگرسیون را استفاده کنید\n",
        "model.compile(loss=\"mean_squared_error\",\n",
        "              optimizer=\"sgd\",\n",
        "              metrics=[\"mean_absolute_error\"])"
      ],
      "metadata": {
        "id": "WMvvp3DdlIEX"
      },
      "execution_count": 18,
      "outputs": []
    },
    {
      "cell_type": "code",
      "source": [
        "model.fit((X_train_s_1,X_train_s_2), y_train1, epochs=30,\n",
        "                  validation_data=((X_validation_s_1,X_validation_s_2),\n",
        "                                   y_validation))"
      ],
      "metadata": {
        "colab": {
          "base_uri": "https://localhost:8080/"
        },
        "id": "M-SvdIaklIQg",
        "outputId": "a8e5d1c1-6a5d-4c88-a2fb-3c2c7ec73b81"
      },
      "execution_count": 19,
      "outputs": [
        {
          "output_type": "stream",
          "name": "stdout",
          "text": [
            "Epoch 1/30\n",
            "363/363 [==============================] - 2s 3ms/step - loss: 0.7473 - mean_absolute_error: 0.6079 - val_loss: 1.1509 - val_mean_absolute_error: 0.5267\n",
            "Epoch 2/30\n",
            "363/363 [==============================] - 1s 3ms/step - loss: 1.1524 - mean_absolute_error: 0.5757 - val_loss: 14.1558 - val_mean_absolute_error: 0.6144\n",
            "Epoch 3/30\n",
            "363/363 [==============================] - 1s 2ms/step - loss: 0.6062 - mean_absolute_error: 0.5018 - val_loss: 7.4267 - val_mean_absolute_error: 0.5512\n",
            "Epoch 4/30\n",
            "363/363 [==============================] - 1s 3ms/step - loss: 2.2096 - mean_absolute_error: 0.5254 - val_loss: 3.4182 - val_mean_absolute_error: 0.5122\n",
            "Epoch 5/30\n",
            "363/363 [==============================] - 1s 3ms/step - loss: 0.4765 - mean_absolute_error: 0.4788 - val_loss: 3.0757 - val_mean_absolute_error: 0.4920\n",
            "Epoch 6/30\n",
            "363/363 [==============================] - 1s 2ms/step - loss: 0.4635 - mean_absolute_error: 0.4677 - val_loss: 2.9484 - val_mean_absolute_error: 0.4927\n",
            "Epoch 7/30\n",
            "363/363 [==============================] - 1s 3ms/step - loss: 0.9469 - mean_absolute_error: 0.4941 - val_loss: 1.2905 - val_mean_absolute_error: 0.5049\n",
            "Epoch 8/30\n",
            "363/363 [==============================] - 2s 5ms/step - loss: 0.6246 - mean_absolute_error: 0.4707 - val_loss: 0.4542 - val_mean_absolute_error: 0.4565\n",
            "Epoch 9/30\n",
            "363/363 [==============================] - 3s 8ms/step - loss: 0.4098 - mean_absolute_error: 0.4531 - val_loss: 0.3866 - val_mean_absolute_error: 0.4480\n",
            "Epoch 10/30\n",
            "363/363 [==============================] - 2s 5ms/step - loss: 0.3942 - mean_absolute_error: 0.4499 - val_loss: 1.1795 - val_mean_absolute_error: 0.4646\n",
            "Epoch 11/30\n",
            "363/363 [==============================] - 3s 7ms/step - loss: 0.6142 - mean_absolute_error: 0.4593 - val_loss: 0.5580 - val_mean_absolute_error: 0.4508\n",
            "Epoch 12/30\n",
            "363/363 [==============================] - 2s 4ms/step - loss: 0.4299 - mean_absolute_error: 0.4470 - val_loss: 0.3929 - val_mean_absolute_error: 0.4434\n",
            "Epoch 13/30\n",
            "363/363 [==============================] - 1s 2ms/step - loss: 0.3742 - mean_absolute_error: 0.4402 - val_loss: 0.4810 - val_mean_absolute_error: 0.4477\n",
            "Epoch 14/30\n",
            "363/363 [==============================] - 1s 3ms/step - loss: 0.3742 - mean_absolute_error: 0.4397 - val_loss: 0.4115 - val_mean_absolute_error: 0.4506\n",
            "Epoch 15/30\n",
            "363/363 [==============================] - 1s 2ms/step - loss: 0.3798 - mean_absolute_error: 0.4393 - val_loss: 2.3642 - val_mean_absolute_error: 0.4759\n",
            "Epoch 16/30\n",
            "363/363 [==============================] - 1s 2ms/step - loss: 0.7863 - mean_absolute_error: 0.4589 - val_loss: 0.8943 - val_mean_absolute_error: 0.4700\n",
            "Epoch 17/30\n",
            "363/363 [==============================] - 1s 3ms/step - loss: 0.5152 - mean_absolute_error: 0.4464 - val_loss: 0.3955 - val_mean_absolute_error: 0.4519\n",
            "Epoch 18/30\n",
            "363/363 [==============================] - 1s 3ms/step - loss: 0.3688 - mean_absolute_error: 0.4354 - val_loss: 1.0994 - val_mean_absolute_error: 0.4519\n",
            "Epoch 19/30\n",
            "363/363 [==============================] - 1s 3ms/step - loss: 0.5891 - mean_absolute_error: 0.4427 - val_loss: 0.4307 - val_mean_absolute_error: 0.4435\n",
            "Epoch 20/30\n",
            "363/363 [==============================] - 1s 3ms/step - loss: 0.3691 - mean_absolute_error: 0.4348 - val_loss: 1.0059 - val_mean_absolute_error: 0.4516\n",
            "Epoch 21/30\n",
            "363/363 [==============================] - 1s 3ms/step - loss: 0.3997 - mean_absolute_error: 0.4440 - val_loss: 1.9644 - val_mean_absolute_error: 0.4597\n",
            "Epoch 22/30\n",
            "363/363 [==============================] - 1s 2ms/step - loss: 0.3944 - mean_absolute_error: 0.4365 - val_loss: 2.4507 - val_mean_absolute_error: 0.4645\n",
            "Epoch 23/30\n",
            "363/363 [==============================] - 1s 3ms/step - loss: 0.8383 - mean_absolute_error: 0.4456 - val_loss: 0.9259 - val_mean_absolute_error: 0.4536\n",
            "Epoch 24/30\n",
            "363/363 [==============================] - 1s 3ms/step - loss: 0.4914 - mean_absolute_error: 0.4431 - val_loss: 0.4375 - val_mean_absolute_error: 0.4348\n",
            "Epoch 25/30\n",
            "363/363 [==============================] - 1s 3ms/step - loss: 0.3879 - mean_absolute_error: 0.4339 - val_loss: 0.3978 - val_mean_absolute_error: 0.4361\n",
            "Epoch 26/30\n",
            "363/363 [==============================] - 1s 3ms/step - loss: 0.3687 - mean_absolute_error: 0.4331 - val_loss: 0.5174 - val_mean_absolute_error: 0.4374\n",
            "Epoch 27/30\n",
            "363/363 [==============================] - 1s 2ms/step - loss: 0.3867 - mean_absolute_error: 0.4311 - val_loss: 0.6216 - val_mean_absolute_error: 0.4343\n",
            "Epoch 28/30\n",
            "363/363 [==============================] - 1s 2ms/step - loss: 0.4204 - mean_absolute_error: 0.4309 - val_loss: 0.7700 - val_mean_absolute_error: 0.4434\n",
            "Epoch 29/30\n",
            "363/363 [==============================] - 1s 3ms/step - loss: 0.3557 - mean_absolute_error: 0.4278 - val_loss: 0.3966 - val_mean_absolute_error: 0.4411\n",
            "Epoch 30/30\n",
            "363/363 [==============================] - 1s 3ms/step - loss: 0.3698 - mean_absolute_error: 0.4274 - val_loss: 0.3699 - val_mean_absolute_error: 0.4295\n"
          ]
        },
        {
          "output_type": "execute_result",
          "data": {
            "text/plain": [
              "<keras.src.callbacks.History at 0x7f4d91a759c0>"
            ]
          },
          "metadata": {},
          "execution_count": 19
        }
      ]
    },
    {
      "cell_type": "markdown",
      "source": [
        "# شکل سوم پیاده سازی فانکشنال با 2 ورودی و 2 خروجی"
      ],
      "metadata": {
        "id": "t1ey_05SlO0T"
      }
    },
    {
      "cell_type": "code",
      "source": [
        "input_1=keras.layers.Input(shape=[6])\n",
        "input_2=keras.layers.Input(shape=[4])\n",
        "# لایه پنهان ایجاد شده ، بعنوان یک تابع است که ورودی می گیرد\n",
        "hidden_layer1= keras.layers.Dense(50,activation=\"relu\")(input_1)\n",
        "hidden_layer2= keras.layers.Dense(10,activation=\"relu\")(hidden_layer1)\n",
        "# concatenate layers\n",
        "concatenate_layer=keras.layers.Concatenate()([input_2,hidden_layer2])\n",
        "#output layers\n",
        "helper_output=keras.layers.Dense(1, name=\"helper_output\")(hidden_layer2)\n",
        "output=keras.layers.Dense(1, name=\"output\")(concatenate_layer)\n",
        "model_f=keras.Model(inputs=[input_1, input_2],outputs=[output,helper_output])\n"
      ],
      "metadata": {
        "id": "8bk1zi_WlIc3"
      },
      "execution_count": 20,
      "outputs": []
    },
    {
      "cell_type": "code",
      "source": [
        "#در این مرحله باید متریک ها و لاس فانکشن های مربوط به هر خروجی را  بصورت لیست مشخص  کنید\n",
        "model_f.compile(loss=[\"mse\",\"mse\"],\n",
        "              loss_weights=[0.8,0.2],\n",
        "              optimizer=\"sgd\",\n",
        "              metrics=[\"mean_absolute_error\"])"
      ],
      "metadata": {
        "id": "HSbltbF9lInX"
      },
      "execution_count": 21,
      "outputs": []
    },
    {
      "cell_type": "code",
      "source": [
        "model_f.fit((X_train_s_1,X_train_s_2), (y_train1,y_train1), epochs=30,\n",
        "                  validation_data=((X_validation_s_1,X_validation_s_2),\n",
        "                                   (y_validation,y_validation)))"
      ],
      "metadata": {
        "colab": {
          "base_uri": "https://localhost:8080/"
        },
        "id": "gO7p2FURlIy-",
        "outputId": "25bb2b2b-a445-4371-d661-4ae0bce1188c"
      },
      "execution_count": 22,
      "outputs": [
        {
          "output_type": "stream",
          "name": "stdout",
          "text": [
            "Epoch 1/30\n",
            "363/363 [==============================] - 2s 3ms/step - loss: 1.0463 - output_loss: 1.0480 - helper_output_loss: 1.0397 - output_mean_absolute_error: 0.6638 - helper_output_mean_absolute_error: 0.7176 - val_loss: 19.5883 - val_output_loss: 24.3265 - val_helper_output_loss: 0.6353 - val_output_mean_absolute_error: 0.6978 - val_helper_output_mean_absolute_error: 0.5817\n",
            "Epoch 2/30\n",
            "363/363 [==============================] - 1s 3ms/step - loss: 3.3155 - output_loss: 3.9951 - helper_output_loss: 0.5970 - output_mean_absolute_error: 0.5904 - helper_output_mean_absolute_error: 0.5620 - val_loss: 0.8392 - val_output_loss: 0.9068 - val_helper_output_loss: 0.5692 - val_output_mean_absolute_error: 0.5188 - val_helper_output_mean_absolute_error: 0.5483\n",
            "Epoch 3/30\n",
            "363/363 [==============================] - 1s 3ms/step - loss: 0.5741 - output_loss: 0.5821 - helper_output_loss: 0.5424 - output_mean_absolute_error: 0.5119 - helper_output_mean_absolute_error: 0.5360 - val_loss: 0.4732 - val_output_loss: 0.4584 - val_helper_output_loss: 0.5322 - val_output_mean_absolute_error: 0.4983 - val_helper_output_mean_absolute_error: 0.5423\n",
            "Epoch 4/30\n",
            "363/363 [==============================] - 1s 4ms/step - loss: 0.4575 - output_loss: 0.4432 - helper_output_loss: 0.5147 - output_mean_absolute_error: 0.4799 - helper_output_mean_absolute_error: 0.5234 - val_loss: 0.4528 - val_output_loss: 0.4381 - val_helper_output_loss: 0.5116 - val_output_mean_absolute_error: 0.4774 - val_helper_output_mean_absolute_error: 0.5259\n",
            "Epoch 5/30\n",
            "363/363 [==============================] - 1s 4ms/step - loss: 0.4406 - output_loss: 0.4259 - helper_output_loss: 0.4992 - output_mean_absolute_error: 0.4713 - helper_output_mean_absolute_error: 0.5157 - val_loss: 0.4524 - val_output_loss: 0.4409 - val_helper_output_loss: 0.4986 - val_output_mean_absolute_error: 0.4737 - val_helper_output_mean_absolute_error: 0.5214\n",
            "Epoch 6/30\n",
            "363/363 [==============================] - 1s 2ms/step - loss: 0.4340 - output_loss: 0.4194 - helper_output_loss: 0.4923 - output_mean_absolute_error: 0.4676 - helper_output_mean_absolute_error: 0.5144 - val_loss: 0.4387 - val_output_loss: 0.4257 - val_helper_output_loss: 0.4908 - val_output_mean_absolute_error: 0.4647 - val_helper_output_mean_absolute_error: 0.5160\n",
            "Epoch 7/30\n",
            "363/363 [==============================] - 1s 3ms/step - loss: 0.4254 - output_loss: 0.4104 - helper_output_loss: 0.4857 - output_mean_absolute_error: 0.4632 - helper_output_mean_absolute_error: 0.5101 - val_loss: 0.4621 - val_output_loss: 0.4534 - val_helper_output_loss: 0.4968 - val_output_mean_absolute_error: 0.4720 - val_helper_output_mean_absolute_error: 0.5214\n",
            "Epoch 8/30\n",
            "363/363 [==============================] - 1s 3ms/step - loss: 0.4342 - output_loss: 0.4215 - helper_output_loss: 0.4851 - output_mean_absolute_error: 0.4667 - helper_output_mean_absolute_error: 0.5095 - val_loss: 0.4545 - val_output_loss: 0.4455 - val_helper_output_loss: 0.4907 - val_output_mean_absolute_error: 0.4663 - val_helper_output_mean_absolute_error: 0.5131\n",
            "Epoch 9/30\n",
            "363/363 [==============================] - 1s 3ms/step - loss: 0.4211 - output_loss: 0.4072 - helper_output_loss: 0.4769 - output_mean_absolute_error: 0.4591 - helper_output_mean_absolute_error: 0.5060 - val_loss: 0.4351 - val_output_loss: 0.4244 - val_helper_output_loss: 0.4779 - val_output_mean_absolute_error: 0.4569 - val_helper_output_mean_absolute_error: 0.5103\n",
            "Epoch 10/30\n",
            "363/363 [==============================] - 1s 4ms/step - loss: 0.4108 - output_loss: 0.3960 - helper_output_loss: 0.4697 - output_mean_absolute_error: 0.4549 - helper_output_mean_absolute_error: 0.5019 - val_loss: 0.4330 - val_output_loss: 0.4170 - val_helper_output_loss: 0.4970 - val_output_mean_absolute_error: 0.4685 - val_helper_output_mean_absolute_error: 0.5236\n",
            "Epoch 11/30\n",
            "363/363 [==============================] - 1s 3ms/step - loss: 0.4093 - output_loss: 0.3947 - helper_output_loss: 0.4673 - output_mean_absolute_error: 0.4531 - helper_output_mean_absolute_error: 0.5008 - val_loss: 0.4320 - val_output_loss: 0.4214 - val_helper_output_loss: 0.4740 - val_output_mean_absolute_error: 0.4545 - val_helper_output_mean_absolute_error: 0.5062\n",
            "Epoch 12/30\n",
            "363/363 [==============================] - 1s 2ms/step - loss: 0.4126 - output_loss: 0.3995 - helper_output_loss: 0.4649 - output_mean_absolute_error: 0.4525 - helper_output_mean_absolute_error: 0.4987 - val_loss: 0.4118 - val_output_loss: 0.3976 - val_helper_output_loss: 0.4684 - val_output_mean_absolute_error: 0.4425 - val_helper_output_mean_absolute_error: 0.4971\n",
            "Epoch 13/30\n",
            "363/363 [==============================] - 1s 3ms/step - loss: 0.4032 - output_loss: 0.3893 - helper_output_loss: 0.4586 - output_mean_absolute_error: 0.4498 - helper_output_mean_absolute_error: 0.4954 - val_loss: 0.4171 - val_output_loss: 0.4041 - val_helper_output_loss: 0.4691 - val_output_mean_absolute_error: 0.4495 - val_helper_output_mean_absolute_error: 0.5020\n",
            "Epoch 14/30\n",
            "363/363 [==============================] - 1s 2ms/step - loss: 0.4047 - output_loss: 0.3905 - helper_output_loss: 0.4612 - output_mean_absolute_error: 0.4508 - helper_output_mean_absolute_error: 0.4954 - val_loss: 0.4274 - val_output_loss: 0.4170 - val_helper_output_loss: 0.4688 - val_output_mean_absolute_error: 0.4514 - val_helper_output_mean_absolute_error: 0.4972\n",
            "Epoch 15/30\n",
            "363/363 [==============================] - 1s 2ms/step - loss: 0.4074 - output_loss: 0.3932 - helper_output_loss: 0.4643 - output_mean_absolute_error: 0.4493 - helper_output_mean_absolute_error: 0.4947 - val_loss: 0.4224 - val_output_loss: 0.4092 - val_helper_output_loss: 0.4753 - val_output_mean_absolute_error: 0.4580 - val_helper_output_mean_absolute_error: 0.5013\n",
            "Epoch 16/30\n",
            "363/363 [==============================] - 1s 3ms/step - loss: 0.4084 - output_loss: 0.3953 - helper_output_loss: 0.4607 - output_mean_absolute_error: 0.4495 - helper_output_mean_absolute_error: 0.4935 - val_loss: 0.4196 - val_output_loss: 0.4097 - val_helper_output_loss: 0.4591 - val_output_mean_absolute_error: 0.4415 - val_helper_output_mean_absolute_error: 0.4946\n",
            "Epoch 17/30\n",
            "363/363 [==============================] - 1s 2ms/step - loss: 0.3960 - output_loss: 0.3823 - helper_output_loss: 0.4504 - output_mean_absolute_error: 0.4437 - helper_output_mean_absolute_error: 0.4895 - val_loss: 0.4180 - val_output_loss: 0.4074 - val_helper_output_loss: 0.4602 - val_output_mean_absolute_error: 0.4486 - val_helper_output_mean_absolute_error: 0.4973\n",
            "Epoch 18/30\n",
            "363/363 [==============================] - 1s 3ms/step - loss: 0.3908 - output_loss: 0.3768 - helper_output_loss: 0.4471 - output_mean_absolute_error: 0.4420 - helper_output_mean_absolute_error: 0.4870 - val_loss: 0.4255 - val_output_loss: 0.4169 - val_helper_output_loss: 0.4599 - val_output_mean_absolute_error: 0.4438 - val_helper_output_mean_absolute_error: 0.4928\n",
            "Epoch 19/30\n",
            "363/363 [==============================] - 1s 3ms/step - loss: 0.3962 - output_loss: 0.3840 - helper_output_loss: 0.4449 - output_mean_absolute_error: 0.4418 - helper_output_mean_absolute_error: 0.4847 - val_loss: 0.4188 - val_output_loss: 0.4083 - val_helper_output_loss: 0.4610 - val_output_mean_absolute_error: 0.4470 - val_helper_output_mean_absolute_error: 0.4983\n",
            "Epoch 20/30\n",
            "363/363 [==============================] - 1s 2ms/step - loss: 0.3879 - output_loss: 0.3742 - helper_output_loss: 0.4431 - output_mean_absolute_error: 0.4392 - helper_output_mean_absolute_error: 0.4843 - val_loss: 0.3897 - val_output_loss: 0.3736 - val_helper_output_loss: 0.4539 - val_output_mean_absolute_error: 0.4330 - val_helper_output_mean_absolute_error: 0.4850\n",
            "Epoch 21/30\n",
            "363/363 [==============================] - 1s 3ms/step - loss: 0.3850 - output_loss: 0.3712 - helper_output_loss: 0.4404 - output_mean_absolute_error: 0.4375 - helper_output_mean_absolute_error: 0.4826 - val_loss: 0.4219 - val_output_loss: 0.4131 - val_helper_output_loss: 0.4571 - val_output_mean_absolute_error: 0.4403 - val_helper_output_mean_absolute_error: 0.4888\n",
            "Epoch 22/30\n",
            "363/363 [==============================] - 1s 4ms/step - loss: 0.3848 - output_loss: 0.3709 - helper_output_loss: 0.4406 - output_mean_absolute_error: 0.4373 - helper_output_mean_absolute_error: 0.4820 - val_loss: 0.4169 - val_output_loss: 0.4083 - val_helper_output_loss: 0.4512 - val_output_mean_absolute_error: 0.4375 - val_helper_output_mean_absolute_error: 0.4872\n",
            "Epoch 23/30\n",
            "363/363 [==============================] - 1s 4ms/step - loss: 0.3845 - output_loss: 0.3714 - helper_output_loss: 0.4368 - output_mean_absolute_error: 0.4361 - helper_output_mean_absolute_error: 0.4788 - val_loss: 0.3986 - val_output_loss: 0.3859 - val_helper_output_loss: 0.4498 - val_output_mean_absolute_error: 0.4371 - val_helper_output_mean_absolute_error: 0.4863\n",
            "Epoch 24/30\n",
            "363/363 [==============================] - 1s 2ms/step - loss: 0.3842 - output_loss: 0.3711 - helper_output_loss: 0.4368 - output_mean_absolute_error: 0.4346 - helper_output_mean_absolute_error: 0.4783 - val_loss: 0.5683 - val_output_loss: 0.5984 - val_helper_output_loss: 0.4480 - val_output_mean_absolute_error: 0.4434 - val_helper_output_mean_absolute_error: 0.4854\n",
            "Epoch 25/30\n",
            "363/363 [==============================] - 1s 2ms/step - loss: 0.3845 - output_loss: 0.3718 - helper_output_loss: 0.4353 - output_mean_absolute_error: 0.4355 - helper_output_mean_absolute_error: 0.4780 - val_loss: 0.4031 - val_output_loss: 0.3915 - val_helper_output_loss: 0.4491 - val_output_mean_absolute_error: 0.4402 - val_helper_output_mean_absolute_error: 0.4872\n",
            "Epoch 26/30\n",
            "363/363 [==============================] - 1s 3ms/step - loss: 0.3799 - output_loss: 0.3667 - helper_output_loss: 0.4326 - output_mean_absolute_error: 0.4340 - helper_output_mean_absolute_error: 0.4764 - val_loss: 0.3909 - val_output_loss: 0.3761 - val_helper_output_loss: 0.4499 - val_output_mean_absolute_error: 0.4334 - val_helper_output_mean_absolute_error: 0.4834\n",
            "Epoch 27/30\n",
            "363/363 [==============================] - 1s 3ms/step - loss: 0.3786 - output_loss: 0.3654 - helper_output_loss: 0.4314 - output_mean_absolute_error: 0.4320 - helper_output_mean_absolute_error: 0.4751 - val_loss: 0.6158 - val_output_loss: 0.6571 - val_helper_output_loss: 0.4510 - val_output_mean_absolute_error: 0.4506 - val_helper_output_mean_absolute_error: 0.4913\n",
            "Epoch 28/30\n",
            "363/363 [==============================] - 1s 3ms/step - loss: 0.3847 - output_loss: 0.3727 - helper_output_loss: 0.4326 - output_mean_absolute_error: 0.4341 - helper_output_mean_absolute_error: 0.4760 - val_loss: 0.7651 - val_output_loss: 0.8420 - val_helper_output_loss: 0.4573 - val_output_mean_absolute_error: 0.4513 - val_helper_output_mean_absolute_error: 0.4912\n",
            "Epoch 29/30\n",
            "363/363 [==============================] - 1s 3ms/step - loss: 0.3834 - output_loss: 0.3716 - helper_output_loss: 0.4306 - output_mean_absolute_error: 0.4324 - helper_output_mean_absolute_error: 0.4739 - val_loss: 0.4483 - val_output_loss: 0.4462 - val_helper_output_loss: 0.4569 - val_output_mean_absolute_error: 0.4531 - val_helper_output_mean_absolute_error: 0.4968\n",
            "Epoch 30/30\n",
            "363/363 [==============================] - 1s 3ms/step - loss: 0.3774 - output_loss: 0.3646 - helper_output_loss: 0.4289 - output_mean_absolute_error: 0.4320 - helper_output_mean_absolute_error: 0.4734 - val_loss: 0.4402 - val_output_loss: 0.4374 - val_helper_output_loss: 0.4512 - val_output_mean_absolute_error: 0.4356 - val_helper_output_mean_absolute_error: 0.4826\n"
          ]
        },
        {
          "output_type": "execute_result",
          "data": {
            "text/plain": [
              "<keras.src.callbacks.History at 0x7f4da21eaef0>"
            ]
          },
          "metadata": {},
          "execution_count": 22
        }
      ]
    },
    {
      "cell_type": "markdown",
      "source": [
        "# SubClass API"
      ],
      "metadata": {
        "id": "McE2oCe2lbf3"
      }
    },
    {
      "cell_type": "code",
      "source": [
        "# ابتدا باید یک کلاس تعریف کنید و کراس.مدل را بعنوان ورودی به آن بدهید\n",
        "class WideAndDeepANN(keras.Model):\n",
        "    def __init__(self, activation=\"relu\", **kwargs):\n",
        "        super().__init__(**kwargs)\n",
        "        self.hidden_layer_1 =keras.layers.Dense(50,activation=activation)\n",
        "        self.hidden_layer_2 =keras.layers.Dense(10,activation=activation)\n",
        "        self.final_output   = keras.layers.Dense(1)\n",
        "        self.helper_output  = keras.layers.Dense(1)\n",
        "\n",
        "# ورودی ها میتواند بصورت لیست یا تاپل باشد\n",
        "    def call(self,inputs):\n",
        "        input_1, input_2 = inputs\n",
        "# بهتر است برای هر لایه اسامی مختلفی بگذاریم\n",
        "        h1_out=self.hidden_layer_1(input_1)\n",
        "        h2_out=self.hidden_layer_2(h1_out)\n",
        "# کانکت کردن ورودی دوم و خروجی لایه دوم\n",
        "        concat_out=keras.layers.concatenate([input_2,h2_out])\n",
        "        final_out=self.hidden_layer_2(concat_out)\n",
        "        helper_out= self.helper_output(h2_out)\n",
        "        return final_out,helper_out"
      ],
      "metadata": {
        "id": "bsAQN5NolW49"
      },
      "execution_count": 23,
      "outputs": []
    },
    {
      "cell_type": "code",
      "source": [
        "# create object from class\n",
        "model_sub=WideAndDeepANN()"
      ],
      "metadata": {
        "id": "MzLN-ZxflXDg"
      },
      "execution_count": 33,
      "outputs": []
    },
    {
      "cell_type": "code",
      "source": [
        "model_sub.compile(loss=[\"mse\",\"mse\"],\n",
        "              loss_weights=[0.8,0.2],\n",
        "              optimizer=\"sgd\",\n",
        "              metrics=[\"mean_absolute_error\"])"
      ],
      "metadata": {
        "id": "mczvkvfRlXK1"
      },
      "execution_count": 34,
      "outputs": []
    },
    {
      "cell_type": "code",
      "source": [
        "model_sub.fit((X_train_s_1,X_train_s_2), (y_train1,y_train1),\n",
        "              epochs=30,validation_data=((X_validation_s_1,X_validation_s_2),\n",
        "                                   (y_validation,y_validation)))"
      ],
      "metadata": {
        "colab": {
          "base_uri": "https://localhost:8080/",
          "height": 894
        },
        "id": "UOLGbfKklXPM",
        "outputId": "913c5f28-645c-4406-9f32-40988b84b9df"
      },
      "execution_count": 35,
      "outputs": [
        {
          "output_type": "stream",
          "name": "stdout",
          "text": [
            "Epoch 1/30\n"
          ]
        },
        {
          "output_type": "error",
          "ename": "ValueError",
          "evalue": "ignored",
          "traceback": [
            "\u001b[0;31m---------------------------------------------------------------------------\u001b[0m",
            "\u001b[0;31mValueError\u001b[0m                                Traceback (most recent call last)",
            "\u001b[0;32m<ipython-input-35-6d62b109c4d6>\u001b[0m in \u001b[0;36m<cell line: 1>\u001b[0;34m()\u001b[0m\n\u001b[0;32m----> 1\u001b[0;31m model_sub.fit((X_train_s_1,X_train_s_2), (y_train1,y_train1),\n\u001b[0m\u001b[1;32m      2\u001b[0m               epochs=30,validation_data=((X_validation_s_1,X_validation_s_2),\n\u001b[1;32m      3\u001b[0m                                    (y_validation,y_validation)))\n",
            "\u001b[0;32m/usr/local/lib/python3.10/dist-packages/keras/src/utils/traceback_utils.py\u001b[0m in \u001b[0;36merror_handler\u001b[0;34m(*args, **kwargs)\u001b[0m\n\u001b[1;32m     68\u001b[0m             \u001b[0;31m# To get the full stack trace, call:\u001b[0m\u001b[0;34m\u001b[0m\u001b[0;34m\u001b[0m\u001b[0m\n\u001b[1;32m     69\u001b[0m             \u001b[0;31m# `tf.debugging.disable_traceback_filtering()`\u001b[0m\u001b[0;34m\u001b[0m\u001b[0;34m\u001b[0m\u001b[0m\n\u001b[0;32m---> 70\u001b[0;31m             \u001b[0;32mraise\u001b[0m \u001b[0me\u001b[0m\u001b[0;34m.\u001b[0m\u001b[0mwith_traceback\u001b[0m\u001b[0;34m(\u001b[0m\u001b[0mfiltered_tb\u001b[0m\u001b[0;34m)\u001b[0m \u001b[0;32mfrom\u001b[0m \u001b[0;32mNone\u001b[0m\u001b[0;34m\u001b[0m\u001b[0;34m\u001b[0m\u001b[0m\n\u001b[0m\u001b[1;32m     71\u001b[0m         \u001b[0;32mfinally\u001b[0m\u001b[0;34m:\u001b[0m\u001b[0;34m\u001b[0m\u001b[0;34m\u001b[0m\u001b[0m\n\u001b[1;32m     72\u001b[0m             \u001b[0;32mdel\u001b[0m \u001b[0mfiltered_tb\u001b[0m\u001b[0;34m\u001b[0m\u001b[0;34m\u001b[0m\u001b[0m\n",
            "\u001b[0;32m/usr/local/lib/python3.10/dist-packages/keras/src/engine/training.py\u001b[0m in \u001b[0;36mtf__train_function\u001b[0;34m(iterator)\u001b[0m\n\u001b[1;32m     13\u001b[0m                 \u001b[0;32mtry\u001b[0m\u001b[0;34m:\u001b[0m\u001b[0;34m\u001b[0m\u001b[0;34m\u001b[0m\u001b[0m\n\u001b[1;32m     14\u001b[0m                     \u001b[0mdo_return\u001b[0m \u001b[0;34m=\u001b[0m \u001b[0;32mTrue\u001b[0m\u001b[0;34m\u001b[0m\u001b[0;34m\u001b[0m\u001b[0m\n\u001b[0;32m---> 15\u001b[0;31m                     \u001b[0mretval_\u001b[0m \u001b[0;34m=\u001b[0m \u001b[0mag__\u001b[0m\u001b[0;34m.\u001b[0m\u001b[0mconverted_call\u001b[0m\u001b[0;34m(\u001b[0m\u001b[0mag__\u001b[0m\u001b[0;34m.\u001b[0m\u001b[0mld\u001b[0m\u001b[0;34m(\u001b[0m\u001b[0mstep_function\u001b[0m\u001b[0;34m)\u001b[0m\u001b[0;34m,\u001b[0m \u001b[0;34m(\u001b[0m\u001b[0mag__\u001b[0m\u001b[0;34m.\u001b[0m\u001b[0mld\u001b[0m\u001b[0;34m(\u001b[0m\u001b[0mself\u001b[0m\u001b[0;34m)\u001b[0m\u001b[0;34m,\u001b[0m \u001b[0mag__\u001b[0m\u001b[0;34m.\u001b[0m\u001b[0mld\u001b[0m\u001b[0;34m(\u001b[0m\u001b[0miterator\u001b[0m\u001b[0;34m)\u001b[0m\u001b[0;34m)\u001b[0m\u001b[0;34m,\u001b[0m \u001b[0;32mNone\u001b[0m\u001b[0;34m,\u001b[0m \u001b[0mfscope\u001b[0m\u001b[0;34m)\u001b[0m\u001b[0;34m\u001b[0m\u001b[0;34m\u001b[0m\u001b[0m\n\u001b[0m\u001b[1;32m     16\u001b[0m                 \u001b[0;32mexcept\u001b[0m\u001b[0;34m:\u001b[0m\u001b[0;34m\u001b[0m\u001b[0;34m\u001b[0m\u001b[0m\n\u001b[1;32m     17\u001b[0m                     \u001b[0mdo_return\u001b[0m \u001b[0;34m=\u001b[0m \u001b[0;32mFalse\u001b[0m\u001b[0;34m\u001b[0m\u001b[0;34m\u001b[0m\u001b[0m\n",
            "\u001b[0;32m/tmp/__autograph_generated_file_imatfg1.py\u001b[0m in \u001b[0;36mtf__call\u001b[0;34m(self, inputs)\u001b[0m\n\u001b[1;32m     12\u001b[0m                 \u001b[0mh2_out\u001b[0m \u001b[0;34m=\u001b[0m \u001b[0mag__\u001b[0m\u001b[0;34m.\u001b[0m\u001b[0mconverted_call\u001b[0m\u001b[0;34m(\u001b[0m\u001b[0mag__\u001b[0m\u001b[0;34m.\u001b[0m\u001b[0mld\u001b[0m\u001b[0;34m(\u001b[0m\u001b[0mself\u001b[0m\u001b[0;34m)\u001b[0m\u001b[0;34m.\u001b[0m\u001b[0mhidden_layer_2\u001b[0m\u001b[0;34m,\u001b[0m \u001b[0;34m(\u001b[0m\u001b[0mag__\u001b[0m\u001b[0;34m.\u001b[0m\u001b[0mld\u001b[0m\u001b[0;34m(\u001b[0m\u001b[0mh1_out\u001b[0m\u001b[0;34m)\u001b[0m\u001b[0;34m,\u001b[0m\u001b[0;34m)\u001b[0m\u001b[0;34m,\u001b[0m \u001b[0;32mNone\u001b[0m\u001b[0;34m,\u001b[0m \u001b[0mfscope\u001b[0m\u001b[0;34m)\u001b[0m\u001b[0;34m\u001b[0m\u001b[0;34m\u001b[0m\u001b[0m\n\u001b[1;32m     13\u001b[0m                 \u001b[0mconcat_out\u001b[0m \u001b[0;34m=\u001b[0m \u001b[0mag__\u001b[0m\u001b[0;34m.\u001b[0m\u001b[0mconverted_call\u001b[0m\u001b[0;34m(\u001b[0m\u001b[0mag__\u001b[0m\u001b[0;34m.\u001b[0m\u001b[0mld\u001b[0m\u001b[0;34m(\u001b[0m\u001b[0mkeras\u001b[0m\u001b[0;34m)\u001b[0m\u001b[0;34m.\u001b[0m\u001b[0mlayers\u001b[0m\u001b[0;34m.\u001b[0m\u001b[0mconcatenate\u001b[0m\u001b[0;34m,\u001b[0m \u001b[0;34m(\u001b[0m\u001b[0;34m[\u001b[0m\u001b[0mag__\u001b[0m\u001b[0;34m.\u001b[0m\u001b[0mld\u001b[0m\u001b[0;34m(\u001b[0m\u001b[0minput_2\u001b[0m\u001b[0;34m)\u001b[0m\u001b[0;34m,\u001b[0m \u001b[0mag__\u001b[0m\u001b[0;34m.\u001b[0m\u001b[0mld\u001b[0m\u001b[0;34m(\u001b[0m\u001b[0mh2_out\u001b[0m\u001b[0;34m)\u001b[0m\u001b[0;34m]\u001b[0m\u001b[0;34m,\u001b[0m\u001b[0;34m)\u001b[0m\u001b[0;34m,\u001b[0m \u001b[0;32mNone\u001b[0m\u001b[0;34m,\u001b[0m \u001b[0mfscope\u001b[0m\u001b[0;34m)\u001b[0m\u001b[0;34m\u001b[0m\u001b[0;34m\u001b[0m\u001b[0m\n\u001b[0;32m---> 14\u001b[0;31m                 \u001b[0mfinal_out\u001b[0m \u001b[0;34m=\u001b[0m \u001b[0mag__\u001b[0m\u001b[0;34m.\u001b[0m\u001b[0mconverted_call\u001b[0m\u001b[0;34m(\u001b[0m\u001b[0mag__\u001b[0m\u001b[0;34m.\u001b[0m\u001b[0mld\u001b[0m\u001b[0;34m(\u001b[0m\u001b[0mself\u001b[0m\u001b[0;34m)\u001b[0m\u001b[0;34m.\u001b[0m\u001b[0mhidden_layer_2\u001b[0m\u001b[0;34m,\u001b[0m \u001b[0;34m(\u001b[0m\u001b[0mag__\u001b[0m\u001b[0;34m.\u001b[0m\u001b[0mld\u001b[0m\u001b[0;34m(\u001b[0m\u001b[0mconcat_out\u001b[0m\u001b[0;34m)\u001b[0m\u001b[0;34m,\u001b[0m\u001b[0;34m)\u001b[0m\u001b[0;34m,\u001b[0m \u001b[0;32mNone\u001b[0m\u001b[0;34m,\u001b[0m \u001b[0mfscope\u001b[0m\u001b[0;34m)\u001b[0m\u001b[0;34m\u001b[0m\u001b[0;34m\u001b[0m\u001b[0m\n\u001b[0m\u001b[1;32m     15\u001b[0m                 \u001b[0mhelper_out\u001b[0m \u001b[0;34m=\u001b[0m \u001b[0mag__\u001b[0m\u001b[0;34m.\u001b[0m\u001b[0mconverted_call\u001b[0m\u001b[0;34m(\u001b[0m\u001b[0mag__\u001b[0m\u001b[0;34m.\u001b[0m\u001b[0mld\u001b[0m\u001b[0;34m(\u001b[0m\u001b[0mself\u001b[0m\u001b[0;34m)\u001b[0m\u001b[0;34m.\u001b[0m\u001b[0mhelper_output\u001b[0m\u001b[0;34m,\u001b[0m \u001b[0;34m(\u001b[0m\u001b[0mag__\u001b[0m\u001b[0;34m.\u001b[0m\u001b[0mld\u001b[0m\u001b[0;34m(\u001b[0m\u001b[0mh2_out\u001b[0m\u001b[0;34m)\u001b[0m\u001b[0;34m,\u001b[0m\u001b[0;34m)\u001b[0m\u001b[0;34m,\u001b[0m \u001b[0;32mNone\u001b[0m\u001b[0;34m,\u001b[0m \u001b[0mfscope\u001b[0m\u001b[0;34m)\u001b[0m\u001b[0;34m\u001b[0m\u001b[0;34m\u001b[0m\u001b[0m\n\u001b[1;32m     16\u001b[0m                 \u001b[0;32mtry\u001b[0m\u001b[0;34m:\u001b[0m\u001b[0;34m\u001b[0m\u001b[0;34m\u001b[0m\u001b[0m\n",
            "\u001b[0;31mValueError\u001b[0m: in user code:\n\n    File \"/usr/local/lib/python3.10/dist-packages/keras/src/engine/training.py\", line 1338, in train_function  *\n        return step_function(self, iterator)\n    File \"/usr/local/lib/python3.10/dist-packages/keras/src/engine/training.py\", line 1322, in step_function  **\n        outputs = model.distribute_strategy.run(run_step, args=(data,))\n    File \"/usr/local/lib/python3.10/dist-packages/keras/src/engine/training.py\", line 1303, in run_step  **\n        outputs = model.train_step(data)\n    File \"/usr/local/lib/python3.10/dist-packages/keras/src/engine/training.py\", line 1080, in train_step\n        y_pred = self(x, training=True)\n    File \"/usr/local/lib/python3.10/dist-packages/keras/src/utils/traceback_utils.py\", line 70, in error_handler\n        raise e.with_traceback(filtered_tb) from None\n    File \"/tmp/__autograph_generated_file_imatfg1.py\", line 14, in tf__call\n        final_out = ag__.converted_call(ag__.ld(self).hidden_layer_2, (ag__.ld(concat_out),), None, fscope)\n\n    ValueError: Exception encountered when calling layer 'wide_and_deep_ann_1' (type WideAndDeepANN).\n    \n    in user code:\n    \n        File \"<ipython-input-23-92aa5c2236ee>\", line 18, in call  *\n            final_out=self.hidden_layer_2(concat_out)\n        File \"/usr/local/lib/python3.10/dist-packages/keras/src/utils/traceback_utils.py\", line 70, in error_handler  **\n            raise e.with_traceback(filtered_tb) from None\n        File \"/usr/local/lib/python3.10/dist-packages/keras/src/engine/input_spec.py\", line 280, in assert_input_compatibility\n            raise ValueError(\n    \n        ValueError: Input 0 of layer \"dense_13\" is incompatible with the layer: expected axis -1 of input shape to have value 50, but received input with shape (None, 14)\n    \n    \n    Call arguments received by layer 'wide_and_deep_ann_1' (type WideAndDeepANN):\n      • inputs=('tf.Tensor(shape=(None, 6), dtype=float32)', 'tf.Tensor(shape=(None, 4), dtype=float32)')\n"
          ]
        }
      ]
    },
    {
      "cell_type": "markdown",
      "source": [
        "# sava and Load model"
      ],
      "metadata": {
        "id": "4HSYyEXLloha"
      }
    },
    {
      "cell_type": "code",
      "source": [
        "# summary of our functional model\n",
        "model_f.summary()"
      ],
      "metadata": {
        "colab": {
          "base_uri": "https://localhost:8080/"
        },
        "id": "xVjiNsCElXTN",
        "outputId": "18543320-3fbd-4119-ac0d-08add9cb8311"
      },
      "execution_count": 36,
      "outputs": [
        {
          "output_type": "stream",
          "name": "stdout",
          "text": [
            "Model: \"model_2\"\n",
            "__________________________________________________________________________________________________\n",
            " Layer (type)                Output Shape                 Param #   Connected to                  \n",
            "==================================================================================================\n",
            " input_4 (InputLayer)        [(None, 6)]                  0         []                            \n",
            "                                                                                                  \n",
            " dense_6 (Dense)             (None, 50)                   350       ['input_4[0][0]']             \n",
            "                                                                                                  \n",
            " input_5 (InputLayer)        [(None, 4)]                  0         []                            \n",
            "                                                                                                  \n",
            " dense_7 (Dense)             (None, 10)                   510       ['dense_6[0][0]']             \n",
            "                                                                                                  \n",
            " concatenate_2 (Concatenate  (None, 14)                   0         ['input_5[0][0]',             \n",
            " )                                                                   'dense_7[0][0]']             \n",
            "                                                                                                  \n",
            " output (Dense)              (None, 1)                    15        ['concatenate_2[0][0]']       \n",
            "                                                                                                  \n",
            " helper_output (Dense)       (None, 1)                    11        ['dense_7[0][0]']             \n",
            "                                                                                                  \n",
            "==================================================================================================\n",
            "Total params: 886 (3.46 KB)\n",
            "Trainable params: 886 (3.46 KB)\n",
            "Non-trainable params: 0 (0.00 Byte)\n",
            "__________________________________________________________________________________________________\n"
          ]
        }
      ]
    },
    {
      "cell_type": "code",
      "source": [
        "#برای ذخیره مدل میتوانید مسیر مجل ذخیره سازی را مشخص کنید\n",
        "model_f.save(\"housing_reg_model_f.h5\")"
      ],
      "metadata": {
        "colab": {
          "base_uri": "https://localhost:8080/"
        },
        "id": "rZaZCKjolXWQ",
        "outputId": "01a3739f-d621-4e1b-86c5-92d7180d1b49"
      },
      "execution_count": 37,
      "outputs": [
        {
          "output_type": "stream",
          "name": "stderr",
          "text": [
            "/usr/local/lib/python3.10/dist-packages/keras/src/engine/training.py:3000: UserWarning: You are saving your model as an HDF5 file via `model.save()`. This file format is considered legacy. We recommend using instead the native Keras format, e.g. `model.save('my_model.keras')`.\n",
            "  saving_api.save_model(\n"
          ]
        }
      ]
    },
    {
      "cell_type": "code",
      "source": [
        "# برای چک کردن مدل ذخیره شده آنرا با یک نام دیگر لود میکنیم\n",
        "#برای لود کردن مدل میتوانید مسیر مجل ذخیره شده را مشخص کنید\n",
        "model_f_reg=keras.models.load_model(\"housing_reg_model_f.h5\")"
      ],
      "metadata": {
        "id": "IiQTUQRglXZf"
      },
      "execution_count": 38,
      "outputs": []
    },
    {
      "cell_type": "code",
      "source": [
        "model_f_reg.summary()"
      ],
      "metadata": {
        "colab": {
          "base_uri": "https://localhost:8080/"
        },
        "id": "P_OP6GZvlwob",
        "outputId": "2f93b033-ce11-448f-972f-fb222ccb5693"
      },
      "execution_count": 39,
      "outputs": [
        {
          "output_type": "stream",
          "name": "stdout",
          "text": [
            "Model: \"model_2\"\n",
            "__________________________________________________________________________________________________\n",
            " Layer (type)                Output Shape                 Param #   Connected to                  \n",
            "==================================================================================================\n",
            " input_4 (InputLayer)        [(None, 6)]                  0         []                            \n",
            "                                                                                                  \n",
            " dense_6 (Dense)             (None, 50)                   350       ['input_4[0][0]']             \n",
            "                                                                                                  \n",
            " input_5 (InputLayer)        [(None, 4)]                  0         []                            \n",
            "                                                                                                  \n",
            " dense_7 (Dense)             (None, 10)                   510       ['dense_6[0][0]']             \n",
            "                                                                                                  \n",
            " concatenate_2 (Concatenate  (None, 14)                   0         ['input_5[0][0]',             \n",
            " )                                                                   'dense_7[0][0]']             \n",
            "                                                                                                  \n",
            " output (Dense)              (None, 1)                    15        ['concatenate_2[0][0]']       \n",
            "                                                                                                  \n",
            " helper_output (Dense)       (None, 1)                    11        ['dense_7[0][0]']             \n",
            "                                                                                                  \n",
            "==================================================================================================\n",
            "Total params: 886 (3.46 KB)\n",
            "Trainable params: 886 (3.46 KB)\n",
            "Non-trainable params: 0 (0.00 Byte)\n",
            "__________________________________________________________________________________________________\n"
          ]
        }
      ]
    },
    {
      "cell_type": "markdown",
      "source": [
        "# Callbacks API"
      ],
      "metadata": {
        "id": "u5MloRNnl1-U"
      }
    },
    {
      "cell_type": "code",
      "source": [
        "model_checkpoint_callback=keras.callbacks.ModelCheckpoint(\"model_cb_reg_housing.h5\",\n",
        "                                                          save_best_only = True)\n",
        "\n",
        "earlystopping_callback=keras.callbacks.EarlyStopping(patience=5,\n",
        "                                                          restore_best_weights=True)"
      ],
      "metadata": {
        "id": "LwTyeB_QlxOU"
      },
      "execution_count": 40,
      "outputs": []
    },
    {
      "cell_type": "code",
      "source": [
        "model_f.compile(loss=[\"mse\",\"mse\"],\n",
        "              loss_weights=[0.8,0.2],\n",
        "              optimizer=\"sgd\",\n",
        "              metrics=[\"mean_absolute_error\"])"
      ],
      "metadata": {
        "id": "oMctaseKlxYI"
      },
      "execution_count": 41,
      "outputs": []
    },
    {
      "cell_type": "code",
      "source": [
        "# کال بک ها بصورت لیست داده می شوند\n",
        "model_f.fit((X_train_s_1,X_train_s_2), (y_train1,y_train1), epochs=5,\n",
        "                  validation_data=((X_validation_s_1,X_validation_s_2),\n",
        "                                   (y_validation,y_validation)),\n",
        "                   callbacks=[model_checkpoint_callback,earlystopping_callback])"
      ],
      "metadata": {
        "colab": {
          "base_uri": "https://localhost:8080/"
        },
        "id": "-tINiE9tlxhU",
        "outputId": "2505b228-042d-4575-a55e-fb01bcba7c44"
      },
      "execution_count": 42,
      "outputs": [
        {
          "output_type": "stream",
          "name": "stdout",
          "text": [
            "Epoch 1/5\n",
            "363/363 [==============================] - 4s 9ms/step - loss: 0.3902 - output_loss: 0.3808 - helper_output_loss: 0.4278 - output_mean_absolute_error: 0.4322 - helper_output_mean_absolute_error: 0.4726 - val_loss: 0.3952 - val_output_loss: 0.3813 - val_helper_output_loss: 0.4506 - val_output_mean_absolute_error: 0.4380 - val_helper_output_mean_absolute_error: 0.4846\n",
            "Epoch 2/5\n",
            "363/363 [==============================] - 2s 6ms/step - loss: 0.3751 - output_loss: 0.3620 - helper_output_loss: 0.4274 - output_mean_absolute_error: 0.4305 - helper_output_mean_absolute_error: 0.4729 - val_loss: 0.3994 - val_output_loss: 0.3876 - val_helper_output_loss: 0.4467 - val_output_mean_absolute_error: 0.4369 - val_helper_output_mean_absolute_error: 0.4842\n",
            "Epoch 3/5\n",
            "363/363 [==============================] - 2s 7ms/step - loss: 0.3754 - output_loss: 0.3626 - helper_output_loss: 0.4268 - output_mean_absolute_error: 0.4305 - helper_output_mean_absolute_error: 0.4726 - val_loss: 0.4234 - val_output_loss: 0.4180 - val_helper_output_loss: 0.4449 - val_output_mean_absolute_error: 0.4336 - val_helper_output_mean_absolute_error: 0.4789\n",
            "Epoch 4/5\n",
            "363/363 [==============================] - 1s 3ms/step - loss: 0.3745 - output_loss: 0.3616 - helper_output_loss: 0.4260 - output_mean_absolute_error: 0.4297 - helper_output_mean_absolute_error: 0.4716 - val_loss: 0.3983 - val_output_loss: 0.3881 - val_helper_output_loss: 0.4391 - val_output_mean_absolute_error: 0.4332 - val_helper_output_mean_absolute_error: 0.4786\n",
            "Epoch 5/5\n",
            "363/363 [==============================] - 1s 3ms/step - loss: 0.3840 - output_loss: 0.3729 - helper_output_loss: 0.4283 - output_mean_absolute_error: 0.4308 - helper_output_mean_absolute_error: 0.4717 - val_loss: 0.4033 - val_output_loss: 0.3928 - val_helper_output_loss: 0.4453 - val_output_mean_absolute_error: 0.4263 - val_helper_output_mean_absolute_error: 0.4748\n"
          ]
        },
        {
          "output_type": "execute_result",
          "data": {
            "text/plain": [
              "<keras.src.callbacks.History at 0x7f4da1f58a90>"
            ]
          },
          "metadata": {},
          "execution_count": 42
        }
      ]
    },
    {
      "cell_type": "markdown",
      "source": [
        "# TensorBoard (callback API)"
      ],
      "metadata": {
        "id": "AunDaKlrl-84"
      }
    },
    {
      "cell_type": "code",
      "source": [
        "# ورودی مسیری است که باید لاگ ها را ذخیره کند\n",
        "tb_callback=keras.callbacks.TensorBoard(\"tb_log\")"
      ],
      "metadata": {
        "id": "SGj3J4djl_9s"
      },
      "execution_count": 43,
      "outputs": []
    },
    {
      "cell_type": "code",
      "source": [
        "model_f.fit((X_train_s_1,X_train_s_2), (y_train1,y_train1), epochs=5,\n",
        "                  validation_data=((X_validation_s_1,X_validation_s_2),\n",
        "                                   (y_validation,y_validation)),\n",
        "                   callbacks=[tb_callback])"
      ],
      "metadata": {
        "colab": {
          "base_uri": "https://localhost:8080/"
        },
        "id": "CYzCall3mAo5",
        "outputId": "dbbfe017-bfab-4ab3-8e53-d62b30a4e56d"
      },
      "execution_count": 44,
      "outputs": [
        {
          "output_type": "stream",
          "name": "stdout",
          "text": [
            "Epoch 1/5\n",
            "363/363 [==============================] - 2s 5ms/step - loss: 0.3723 - output_loss: 0.3593 - helper_output_loss: 0.4241 - output_mean_absolute_error: 0.4296 - helper_output_mean_absolute_error: 0.4706 - val_loss: 0.4226 - val_output_loss: 0.4179 - val_helper_output_loss: 0.4412 - val_output_mean_absolute_error: 0.4303 - val_helper_output_mean_absolute_error: 0.4772\n",
            "Epoch 2/5\n",
            "363/363 [==============================] - 2s 4ms/step - loss: 0.3739 - output_loss: 0.3615 - helper_output_loss: 0.4235 - output_mean_absolute_error: 0.4283 - helper_output_mean_absolute_error: 0.4698 - val_loss: 0.4539 - val_output_loss: 0.4570 - val_helper_output_loss: 0.4411 - val_output_mean_absolute_error: 0.4427 - val_helper_output_mean_absolute_error: 0.4852\n",
            "Epoch 3/5\n",
            "363/363 [==============================] - 1s 4ms/step - loss: 0.3818 - output_loss: 0.3713 - helper_output_loss: 0.4235 - output_mean_absolute_error: 0.4298 - helper_output_mean_absolute_error: 0.4697 - val_loss: 0.3952 - val_output_loss: 0.3819 - val_helper_output_loss: 0.4485 - val_output_mean_absolute_error: 0.4410 - val_helper_output_mean_absolute_error: 0.4871\n",
            "Epoch 4/5\n",
            "363/363 [==============================] - 1s 4ms/step - loss: 0.3721 - output_loss: 0.3595 - helper_output_loss: 0.4227 - output_mean_absolute_error: 0.4281 - helper_output_mean_absolute_error: 0.4708 - val_loss: 0.4166 - val_output_loss: 0.4095 - val_helper_output_loss: 0.4448 - val_output_mean_absolute_error: 0.4357 - val_helper_output_mean_absolute_error: 0.4808\n",
            "Epoch 5/5\n",
            "363/363 [==============================] - 1s 4ms/step - loss: 0.3798 - output_loss: 0.3692 - helper_output_loss: 0.4222 - output_mean_absolute_error: 0.4291 - helper_output_mean_absolute_error: 0.4692 - val_loss: 0.4004 - val_output_loss: 0.3896 - val_helper_output_loss: 0.4438 - val_output_mean_absolute_error: 0.4291 - val_helper_output_mean_absolute_error: 0.4769\n"
          ]
        },
        {
          "output_type": "execute_result",
          "data": {
            "text/plain": [
              "<keras.src.callbacks.History at 0x7f4d9246b4c0>"
            ]
          },
          "metadata": {},
          "execution_count": 44
        }
      ]
    },
    {
      "cell_type": "code",
      "source": [
        "# برای نمایش اطلاعات لاگ شده بصورت زیر عمل میکنیم\n",
        "%load_ext tensorboard"
      ],
      "metadata": {
        "id": "T0-v4bUhmAwf"
      },
      "execution_count": 45,
      "outputs": []
    },
    {
      "cell_type": "code",
      "source": [
        "%tensorboard --logdir=./tb_log --port 6006"
      ],
      "metadata": {
        "colab": {
          "base_uri": "https://localhost:8080/",
          "height": 839
        },
        "id": "PR3Sqey6mA4o",
        "outputId": "0c62a77e-dedd-4caa-acbb-48a56ee04dca"
      },
      "execution_count": 47,
      "outputs": [
        {
          "output_type": "display_data",
          "data": {
            "text/plain": [
              "Reusing TensorBoard on port 6006 (pid 17602), started 0:00:16 ago. (Use '!kill 17602' to kill it.)"
            ]
          },
          "metadata": {}
        },
        {
          "output_type": "display_data",
          "data": {
            "text/plain": [
              "<IPython.core.display.Javascript object>"
            ],
            "application/javascript": [
              "\n",
              "        (async () => {\n",
              "            const url = new URL(await google.colab.kernel.proxyPort(6006, {'cache': true}));\n",
              "            url.searchParams.set('tensorboardColab', 'true');\n",
              "            const iframe = document.createElement('iframe');\n",
              "            iframe.src = url;\n",
              "            iframe.setAttribute('width', '100%');\n",
              "            iframe.setAttribute('height', '800');\n",
              "            iframe.setAttribute('frameborder', 0);\n",
              "            document.body.appendChild(iframe);\n",
              "        })();\n",
              "    "
            ]
          },
          "metadata": {}
        }
      ]
    }
  ]
}